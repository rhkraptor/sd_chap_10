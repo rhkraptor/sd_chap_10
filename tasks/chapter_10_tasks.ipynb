{
 "cells": [
  {
   "cell_type": "markdown",
   "id": "189b04f8",
   "metadata": {},
   "source": [
    "# Chapter 10 – Practical Tasks: Git, Dependency Management, and Packaging\n",
    "\n",
    "This notebook contains hands-on tasks based on Chapter 10 from *Software Engineering for Data Scientists*.\n",
    "\n",
    "## 📑 Task Overview\n",
    "\n",
    "1. [Git Branching and Merging](#task1)\n",
    "2. [Working with Remote Repos](#task2)\n",
    "3. [Managing Dependencies with pip and requirements.txt](#task3)\n",
    "4. [Using Virtual Environments](#task4)\n",
    "5. [Introduction to Python Packaging](#task5)\n",
    "6. [Publishing Your Own Package (Optional)](#task6)\n",
    "\n",
    "---\n"
   ]
  },
  {
   "cell_type": "markdown",
   "id": "8b73cd18",
   "metadata": {},
   "source": [
    "### 🧪 Task 1: Git Branching and Merging <a name=\"task1\"></a>\n",
    "\n",
    "**Objective:** Learn how to create a new branch, make changes, and merge it into the main branch.\n",
    "\n",
    "**Instructions:**\n",
    "\n",
    "1. Clone the `sd_chap_10` GitHub repository:\n",
    "   ```bash\n",
    "   git clone https://github.com/rhkraptor/sd_chap_10.git\n",
    "   cd sd_chap_10\n",
    "   ```\n",
    "\n",
    "2. Create a new branch:\n",
    "   ```bash\n",
    "   git checkout -b feature-yourname\n",
    "   ```\n",
    "\n",
    "3. Modify the file: `README.md`  \n",
    "   ➤ Add your name and GitHub handle under a section titled `Contributors`.\n",
    "\n",
    "4. Commit your change:\n",
    "   ```bash\n",
    "   git add README.md\n",
    "   git commit -m \"Add yourname to Contributors section\"\n",
    "   ```\n",
    "\n",
    "5. Switch to main and merge:\n",
    "   ```bash\n",
    "   git checkout main\n",
    "   git merge feature-yourname\n",
    "   ```\n",
    "\n",
    "6. Push your changes to GitHub:\n",
    "   ```bash\n",
    "   git push origin main\n",
    "   ```\n",
    "\n",
    "✅ **Deliverable**: You should see your name added in the GitHub repo `README.md` file.\n"
   ]
  }
 ],
 "metadata": {
  "language_info": {
   "name": "python"
  }
 },
 "nbformat": 4,
 "nbformat_minor": 5
}
