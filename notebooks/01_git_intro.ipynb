{
 "cells": [
  {
   "cell_type": "markdown",
   "id": "09986bd4",
   "metadata": {},
   "source": [
    "# Topic: Git and Version Control\n",
    "\n",
    "## Objective\n",
    "Understand the basic Git commands and version control concepts.\n",
    "\n",
    "## Contents\n",
    "- What is Git?\n",
    "- git init, add, commit\n",
    "- git branch, merge\n",
    "- Remote setup with GitHub"
   ]
  },
  {
   "cell_type": "markdown",
   "id": "d84e024c",
   "metadata": {},
   "source": []
  }
 ],
 "metadata": {
  "language_info": {
   "name": "python"
  }
 },
 "nbformat": 4,
 "nbformat_minor": 5
}
